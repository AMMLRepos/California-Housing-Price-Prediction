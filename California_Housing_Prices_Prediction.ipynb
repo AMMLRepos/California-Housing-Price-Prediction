{
  "nbformat": 4,
  "nbformat_minor": 0,
  "metadata": {
    "colab": {
      "name": "California Housing Prices Prediction",
      "provenance": [],
      "authorship_tag": "ABX9TyOJ+ubCRny7C48BxBPz4d8g",
      "include_colab_link": true
    },
    "kernelspec": {
      "name": "python3",
      "display_name": "Python 3"
    },
    "language_info": {
      "name": "python"
    }
  },
  "cells": [
    {
      "cell_type": "markdown",
      "metadata": {
        "id": "view-in-github",
        "colab_type": "text"
      },
      "source": [
        "<a href=\"https://colab.research.google.com/github/AMMLRepos/California-Housing-Price-Prediction/blob/main/California_Housing_Prices_Prediction.ipynb\" target=\"_parent\"><img src=\"https://colab.research.google.com/assets/colab-badge.svg\" alt=\"Open In Colab\"/></a>"
      ]
    },
    {
      "cell_type": "markdown",
      "metadata": {
        "id": "B96E5xlh1PKO"
      },
      "source": [
        "# Overview \n",
        "This google colab notebook is a step-by-step process to approach a Machine learning solution to predict housing prices in California, United States. \n",
        "\n",
        "# Business Challenges\n",
        "\n",
        "- To avoid manual methods of predicting housing prices as they are time taking, costly and many a times not reliable and can be biased on emotional front \n",
        "- Estmations are many a times wrong by 20 %\n",
        "\n",
        "# Expected business outcomes\n",
        "- To predict the housing prices in California, United States\n",
        "- To determine whether it is worth investing in a house in a specific area. \n",
        "\n",
        "# Questions you should ask as a Machine Learning Engineer \n",
        "- What is the end goal and expected outcome ?\n",
        "- How is the process currently being carried out without Machine Learning ?\n",
        "- Where is the data located and is it a reliable source ?\n",
        "- How much data is available ?\n",
        "- Do we have all required features to get a right prediction ?\n",
        "- Do we have experts available to help understand the data which is collected ?\n",
        "- How frequently data gets added, updated and deleted ?\n",
        "\n",
        "Questions above are a few which can get you started and you might have many more as you move ahead in the process. \n",
        "\n",
        "# Things you need to decide before starting \n",
        "\n",
        "|Questions|Answers|\n",
        "|----|-----|\n",
        "|Is it a supervised learning or a un-supervised learning appraoch ?| Supervised learning as we have data which is labeled |\n",
        "| Is it a regression task ?| Yes, we need to predict a value(price) and thus it is a regression|\n",
        "|It it multiple regression problem ?|Yes, since we have many features using which we will predict a value|\n",
        "|It is univariate ?|Yes, since we only need to predict one value |\n",
        "|Do you need batch learning or online Learning ?|Here, we don't have a real-time data coming in to be trained. Data collection process in this case is very slow and we can perform batch learning for our model|\n",
        "\n",
        "#Get the data \n",
        "Its time to get your data and have a quick look into it. Also, setup your development environment based on your choice and preferences. In my case, I will be using -\n",
        "\n",
        "|Activity|Tool/Technology/Library|\n",
        "|---|---|\n",
        "|Programming Language | Python 3.x|\n",
        "|Integrated Development Environment | Google Colab|\n",
        "|Libraries | Pandas,Numpy, Matplotlib, Seaborn, Sklearn|\n",
        "\n"
      ]
    },
    {
      "cell_type": "markdown",
      "metadata": {
        "id": "ozvvXAvm6vGf"
      },
      "source": [
        "# Install your libraries"
      ]
    },
    {
      "cell_type": "code",
      "metadata": {
        "id": "7K65k1YF1Li4"
      },
      "source": [
        "!pip install pandas numpy matplotlib seaborn sklearn opendatasets --quiet"
      ],
      "execution_count": 26,
      "outputs": []
    },
    {
      "cell_type": "markdown",
      "metadata": {
        "id": "vrnEmBcE7KSM"
      },
      "source": [
        "#Download your data\n",
        "The dataset we will be working at is available at [Kaggle](https://www.kaggle.com/camnugent/california-housing-prices) and we will be using an opensource library named [opendatasets](https://github.com/JovianML/opendatasets) developed by [jovian](https://jovian.ai) \n",
        "\n",
        "Please note that you must provide your Kaggle Username and Key to allow opendatasets to download the files"
      ]
    },
    {
      "cell_type": "code",
      "metadata": {
        "colab": {
          "base_uri": "https://localhost:8080/"
        },
        "id": "vM16UoqY-9ec",
        "outputId": "3be22e7b-b867-44b2-f389-afd436b01a2f"
      },
      "source": [
        "import opendatasets as od \n",
        "import os\n",
        "dataset_url = \"https://www.kaggle.com/camnugent/california-housing-prices\"\n",
        "od.download(dataset_url)\n",
        "\n",
        "#Set data directory and get the file path. Please note that it may differ in your environment and make required changes to\n",
        "#paths as given below \n",
        "data_dir = \"california-housing-prices\"\n",
        "file_name = os.listdir(data_dir)[0]\n",
        "file_path = data_dir + \"/\" + file_name "
      ],
      "execution_count": 27,
      "outputs": [
        {
          "output_type": "stream",
          "text": [
            "Skipping, found downloaded files in \"./california-housing-prices\" (use force=True to force download)\n"
          ],
          "name": "stdout"
        }
      ]
    },
    {
      "cell_type": "markdown",
      "metadata": {
        "id": "1kZomgYzA9bj"
      },
      "source": [
        "# Import required libraries\n",
        "Let us now import required libraries to get the data in our working directory and have a look into it"
      ]
    },
    {
      "cell_type": "code",
      "metadata": {
        "id": "jlKw-cQxBGgJ"
      },
      "source": [
        "import pandas as pd\n",
        "import numpy as np\n",
        "import matplotlib.pyplot as plt\n",
        "import seaborn as sns"
      ],
      "execution_count": 28,
      "outputs": []
    },
    {
      "cell_type": "markdown",
      "metadata": {
        "id": "fU4fUbi8Btdu"
      },
      "source": [
        "Also perform some basic settings like - \n",
        "- Allow jupyter notebook to show all columns \n",
        "- Allow matplotlib to show maps within jupyter notebook \n"
      ]
    },
    {
      "cell_type": "code",
      "metadata": {
        "id": "b4LejgBSBsTc"
      },
      "source": [
        "#Allow jupyter notebook to display all columns \n",
        "pd.set_option('display.max_columns', 500)\n",
        "pd.set_option('display.width', 1000)\n",
        "\n",
        "#Allow matplotlib to draw visualizations in the notebook\n",
        "%matplotlib inline \n",
        "\n",
        "#Set seaborn library theme and font size for graphs\n",
        "sns.set_theme(style = \"darkgrid\")\n",
        "sns.set_context(\"paper\")"
      ],
      "execution_count": 29,
      "outputs": []
    },
    {
      "cell_type": "markdown",
      "metadata": {
        "id": "RcHuR-V_Bbac"
      },
      "source": [
        "# Take a quick look at the data"
      ]
    },
    {
      "cell_type": "code",
      "metadata": {
        "colab": {
          "base_uri": "https://localhost:8080/"
        },
        "id": "u-fFFyl0Ba_L",
        "outputId": "39dd4f25-26c8-47b2-c1eb-ca662e7e933a"
      },
      "source": [
        "raw_housing_df = pd.read_csv(file_path)\n",
        "print(raw_housing_df)"
      ],
      "execution_count": 30,
      "outputs": [
        {
          "output_type": "stream",
          "text": [
            "       longitude  latitude  housing_median_age  total_rooms  total_bedrooms  population  households  median_income  median_house_value ocean_proximity\n",
            "0        -122.23     37.88                41.0        880.0           129.0       322.0       126.0         8.3252            452600.0        NEAR BAY\n",
            "1        -122.22     37.86                21.0       7099.0          1106.0      2401.0      1138.0         8.3014            358500.0        NEAR BAY\n",
            "2        -122.24     37.85                52.0       1467.0           190.0       496.0       177.0         7.2574            352100.0        NEAR BAY\n",
            "3        -122.25     37.85                52.0       1274.0           235.0       558.0       219.0         5.6431            341300.0        NEAR BAY\n",
            "4        -122.25     37.85                52.0       1627.0           280.0       565.0       259.0         3.8462            342200.0        NEAR BAY\n",
            "...          ...       ...                 ...          ...             ...         ...         ...            ...                 ...             ...\n",
            "20635    -121.09     39.48                25.0       1665.0           374.0       845.0       330.0         1.5603             78100.0          INLAND\n",
            "20636    -121.21     39.49                18.0        697.0           150.0       356.0       114.0         2.5568             77100.0          INLAND\n",
            "20637    -121.22     39.43                17.0       2254.0           485.0      1007.0       433.0         1.7000             92300.0          INLAND\n",
            "20638    -121.32     39.43                18.0       1860.0           409.0       741.0       349.0         1.8672             84700.0          INLAND\n",
            "20639    -121.24     39.37                16.0       2785.0           616.0      1387.0       530.0         2.3886             89400.0          INLAND\n",
            "\n",
            "[20640 rows x 10 columns]\n"
          ],
          "name": "stdout"
        }
      ]
    },
    {
      "cell_type": "code",
      "metadata": {
        "colab": {
          "base_uri": "https://localhost:8080/"
        },
        "id": "aX3QA45LCl5f",
        "outputId": "4d356616-4806-4edc-bcad-4f6a840e91aa"
      },
      "source": [
        "print(raw_housing_df.info())"
      ],
      "execution_count": 31,
      "outputs": [
        {
          "output_type": "stream",
          "text": [
            "<class 'pandas.core.frame.DataFrame'>\n",
            "RangeIndex: 20640 entries, 0 to 20639\n",
            "Data columns (total 10 columns):\n",
            " #   Column              Non-Null Count  Dtype  \n",
            "---  ------              --------------  -----  \n",
            " 0   longitude           20640 non-null  float64\n",
            " 1   latitude            20640 non-null  float64\n",
            " 2   housing_median_age  20640 non-null  float64\n",
            " 3   total_rooms         20640 non-null  float64\n",
            " 4   total_bedrooms      20433 non-null  float64\n",
            " 5   population          20640 non-null  float64\n",
            " 6   households          20640 non-null  float64\n",
            " 7   median_income       20640 non-null  float64\n",
            " 8   median_house_value  20640 non-null  float64\n",
            " 9   ocean_proximity     20640 non-null  object \n",
            "dtypes: float64(9), object(1)\n",
            "memory usage: 1.6+ MB\n",
            "None\n"
          ],
          "name": "stdout"
        }
      ]
    },
    {
      "cell_type": "markdown",
      "metadata": {
        "id": "zPMQHZv_CqEs"
      },
      "source": [
        "The above output shows the following - \n",
        "- Number of rows and columns - 20640 rows and 10 columns \n",
        "- Size of dataset = 1.6 MB\n",
        "- Number of Non-Null entries - See that we have 20640 records in all columns other than *total_bedrooms* which is *20433* and thus we have missing values in this column\n",
        "- Data type of columns - All columns other than *ocean_proximity* are float type and hence are numeric. *ocean_proximity* is categorical value as it has a repeated set of values"
      ]
    },
    {
      "cell_type": "markdown",
      "metadata": {
        "id": "dMgrEgPvDrNC"
      },
      "source": [
        "Let us now see what categories exists in the *ocean_proximity* column and what do they mean"
      ]
    },
    {
      "cell_type": "code",
      "metadata": {
        "colab": {
          "base_uri": "https://localhost:8080/"
        },
        "id": "V0Xrw29FDxN-",
        "outputId": "cc89ed35-71a4-4543-a255-d23429b9aa9f"
      },
      "source": [
        "raw_housing_df[\"ocean_proximity\"].value_counts()"
      ],
      "execution_count": 32,
      "outputs": [
        {
          "output_type": "execute_result",
          "data": {
            "text/plain": [
              "<1H OCEAN     9136\n",
              "INLAND        6551\n",
              "NEAR OCEAN    2658\n",
              "NEAR BAY      2290\n",
              "ISLAND           5\n",
              "Name: ocean_proximity, dtype: int64"
            ]
          },
          "metadata": {
            "tags": []
          },
          "execution_count": 32
        }
      ]
    },
    {
      "cell_type": "markdown",
      "metadata": {
        "id": "vMnF_xNgD4RH"
      },
      "source": [
        "We have 5 categories with the counts mentioned above. \n",
        "Let us know get the basic statistics on the numerical columns we have in our dataset"
      ]
    },
    {
      "cell_type": "code",
      "metadata": {
        "colab": {
          "base_uri": "https://localhost:8080/",
          "height": 297
        },
        "id": "JEvVrOozEDSL",
        "outputId": "04235cbb-c4ac-4c48-c9fa-5e7402dfaaa8"
      },
      "source": [
        "raw_housing_df.describe()"
      ],
      "execution_count": 33,
      "outputs": [
        {
          "output_type": "execute_result",
          "data": {
            "text/html": [
              "<div>\n",
              "<style scoped>\n",
              "    .dataframe tbody tr th:only-of-type {\n",
              "        vertical-align: middle;\n",
              "    }\n",
              "\n",
              "    .dataframe tbody tr th {\n",
              "        vertical-align: top;\n",
              "    }\n",
              "\n",
              "    .dataframe thead th {\n",
              "        text-align: right;\n",
              "    }\n",
              "</style>\n",
              "<table border=\"1\" class=\"dataframe\">\n",
              "  <thead>\n",
              "    <tr style=\"text-align: right;\">\n",
              "      <th></th>\n",
              "      <th>longitude</th>\n",
              "      <th>latitude</th>\n",
              "      <th>housing_median_age</th>\n",
              "      <th>total_rooms</th>\n",
              "      <th>total_bedrooms</th>\n",
              "      <th>population</th>\n",
              "      <th>households</th>\n",
              "      <th>median_income</th>\n",
              "      <th>median_house_value</th>\n",
              "    </tr>\n",
              "  </thead>\n",
              "  <tbody>\n",
              "    <tr>\n",
              "      <th>count</th>\n",
              "      <td>20640.000000</td>\n",
              "      <td>20640.000000</td>\n",
              "      <td>20640.000000</td>\n",
              "      <td>20640.000000</td>\n",
              "      <td>20433.000000</td>\n",
              "      <td>20640.000000</td>\n",
              "      <td>20640.000000</td>\n",
              "      <td>20640.000000</td>\n",
              "      <td>20640.000000</td>\n",
              "    </tr>\n",
              "    <tr>\n",
              "      <th>mean</th>\n",
              "      <td>-119.569704</td>\n",
              "      <td>35.631861</td>\n",
              "      <td>28.639486</td>\n",
              "      <td>2635.763081</td>\n",
              "      <td>537.870553</td>\n",
              "      <td>1425.476744</td>\n",
              "      <td>499.539680</td>\n",
              "      <td>3.870671</td>\n",
              "      <td>206855.816909</td>\n",
              "    </tr>\n",
              "    <tr>\n",
              "      <th>std</th>\n",
              "      <td>2.003532</td>\n",
              "      <td>2.135952</td>\n",
              "      <td>12.585558</td>\n",
              "      <td>2181.615252</td>\n",
              "      <td>421.385070</td>\n",
              "      <td>1132.462122</td>\n",
              "      <td>382.329753</td>\n",
              "      <td>1.899822</td>\n",
              "      <td>115395.615874</td>\n",
              "    </tr>\n",
              "    <tr>\n",
              "      <th>min</th>\n",
              "      <td>-124.350000</td>\n",
              "      <td>32.540000</td>\n",
              "      <td>1.000000</td>\n",
              "      <td>2.000000</td>\n",
              "      <td>1.000000</td>\n",
              "      <td>3.000000</td>\n",
              "      <td>1.000000</td>\n",
              "      <td>0.499900</td>\n",
              "      <td>14999.000000</td>\n",
              "    </tr>\n",
              "    <tr>\n",
              "      <th>25%</th>\n",
              "      <td>-121.800000</td>\n",
              "      <td>33.930000</td>\n",
              "      <td>18.000000</td>\n",
              "      <td>1447.750000</td>\n",
              "      <td>296.000000</td>\n",
              "      <td>787.000000</td>\n",
              "      <td>280.000000</td>\n",
              "      <td>2.563400</td>\n",
              "      <td>119600.000000</td>\n",
              "    </tr>\n",
              "    <tr>\n",
              "      <th>50%</th>\n",
              "      <td>-118.490000</td>\n",
              "      <td>34.260000</td>\n",
              "      <td>29.000000</td>\n",
              "      <td>2127.000000</td>\n",
              "      <td>435.000000</td>\n",
              "      <td>1166.000000</td>\n",
              "      <td>409.000000</td>\n",
              "      <td>3.534800</td>\n",
              "      <td>179700.000000</td>\n",
              "    </tr>\n",
              "    <tr>\n",
              "      <th>75%</th>\n",
              "      <td>-118.010000</td>\n",
              "      <td>37.710000</td>\n",
              "      <td>37.000000</td>\n",
              "      <td>3148.000000</td>\n",
              "      <td>647.000000</td>\n",
              "      <td>1725.000000</td>\n",
              "      <td>605.000000</td>\n",
              "      <td>4.743250</td>\n",
              "      <td>264725.000000</td>\n",
              "    </tr>\n",
              "    <tr>\n",
              "      <th>max</th>\n",
              "      <td>-114.310000</td>\n",
              "      <td>41.950000</td>\n",
              "      <td>52.000000</td>\n",
              "      <td>39320.000000</td>\n",
              "      <td>6445.000000</td>\n",
              "      <td>35682.000000</td>\n",
              "      <td>6082.000000</td>\n",
              "      <td>15.000100</td>\n",
              "      <td>500001.000000</td>\n",
              "    </tr>\n",
              "  </tbody>\n",
              "</table>\n",
              "</div>"
            ],
            "text/plain": [
              "          longitude      latitude  housing_median_age   total_rooms  total_bedrooms    population    households  median_income  median_house_value\n",
              "count  20640.000000  20640.000000        20640.000000  20640.000000    20433.000000  20640.000000  20640.000000   20640.000000        20640.000000\n",
              "mean    -119.569704     35.631861           28.639486   2635.763081      537.870553   1425.476744    499.539680       3.870671       206855.816909\n",
              "std        2.003532      2.135952           12.585558   2181.615252      421.385070   1132.462122    382.329753       1.899822       115395.615874\n",
              "min     -124.350000     32.540000            1.000000      2.000000        1.000000      3.000000      1.000000       0.499900        14999.000000\n",
              "25%     -121.800000     33.930000           18.000000   1447.750000      296.000000    787.000000    280.000000       2.563400       119600.000000\n",
              "50%     -118.490000     34.260000           29.000000   2127.000000      435.000000   1166.000000    409.000000       3.534800       179700.000000\n",
              "75%     -118.010000     37.710000           37.000000   3148.000000      647.000000   1725.000000    605.000000       4.743250       264725.000000\n",
              "max     -114.310000     41.950000           52.000000  39320.000000     6445.000000  35682.000000   6082.000000      15.000100       500001.000000"
            ]
          },
          "metadata": {
            "tags": []
          },
          "execution_count": 33
        }
      ]
    },
    {
      "cell_type": "markdown",
      "metadata": {
        "id": "4ecS7BccEG7L"
      },
      "source": [
        "describe fuction will provide some basic statistics on the numerical columns of the dataset. Using the above output, we can get some inferences like - \n",
        "- Minimum number of rooms is 2 and maximum is 39320 and this is a huge range for the dataset we have \n",
        "- Minimum population is 3 and Maximum population is 35682 which is another big range \n",
        "\n",
        "Observing other values, we can also that that there is a significant gap in minimum and maximum values of median_house_value, median_income, households, etc. \n",
        "\n",
        "Describe function will given you such stats and shows how much of your data has what kind of numberical values "
      ]
    },
    {
      "cell_type": "markdown",
      "metadata": {
        "id": "wOVjKMniE852"
      },
      "source": [
        "Let us plot a graph to get another view"
      ]
    },
    {
      "cell_type": "code",
      "metadata": {
        "colab": {
          "base_uri": "https://localhost:8080/",
          "height": 878
        },
        "id": "pqXu5gK4E_cM",
        "outputId": "3ab7f7a9-7ec3-4cef-9710-c7d0e46f80de"
      },
      "source": [
        "raw_housing_df.hist(bins = 50, figsize=(20,15))\n",
        "plt.show()"
      ],
      "execution_count": 34,
      "outputs": [
        {
          "output_type": "display_data",
          "data": {
            "image/png": "[encoded data removed]",
            "text/plain": [
              "<Figure size 1440x1080 with 9 Axes>"
            ]
          },
          "metadata": {
            "tags": []
          }
        }
      ]
    }
  ]
}