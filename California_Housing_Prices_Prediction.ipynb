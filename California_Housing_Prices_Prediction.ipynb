{
  "nbformat": 4,
  "nbformat_minor": 0,
  "metadata": {
    "colab": {
      "name": "California Housing Prices Prediction",
      "provenance": [],
      "authorship_tag": "ABX9TyPYAr900fU7g1Xi9NcJjqdj",
      "include_colab_link": true
    },
    "kernelspec": {
      "name": "python3",
      "display_name": "Python 3"
    },
    "language_info": {
      "name": "python"
    }
  },
  "cells": [
    {
      "cell_type": "markdown",
      "metadata": {
        "id": "view-in-github",
        "colab_type": "text"
      },
      "source": [
        "<a href=\"https://colab.research.google.com/github/AMMLRepos/California-Housing-Price-Prediction/blob/main/California_Housing_Prices_Prediction.ipynb\" target=\"_parent\"><img src=\"https://colab.research.google.com/assets/colab-badge.svg\" alt=\"Open In Colab\"/></a>"
      ]
    },
    {
      "cell_type": "markdown",
      "metadata": {
        "id": "B96E5xlh1PKO"
      },
      "source": [
        "# Overview \n",
        "This google colab notebook is a step-by-step process to approach a Machine learning solution to predict housing prices in California, United States. \n",
        "\n",
        "# Business Challenges\n",
        "\n",
        "- To avoid manual methods of predicting housing prices as they are time taking, costly and many a times not reliable and can be biased on emotional front \n",
        "- Estmations are many a times wrong by 20 %\n",
        "\n",
        "# Expected business outcomes\n",
        "- To predict the housing prices in California, United States\n",
        "- To determine whether it is worth investing in a house in a specific area. \n",
        "\n",
        "# Questions you should ask as a Machine Learning Engineer \n",
        "- What is the end goal and expected outcome ?\n",
        "- How is the process currently being carried out without Machine Learning ?\n",
        "- Where is the data located and is it a reliable source ?\n",
        "- How much data is available ?\n",
        "- Do we have all required features to get a right prediction ?\n",
        "- Do we have experts available to help understand the data which is collected ?\n",
        "- How frequently data gets added, updated and deleted ?\n",
        "\n",
        "Questions above are a few which can get you started and you might have many more as you move ahead in the process. \n",
        "\n",
        "# Things you need to decide before starting \n",
        "\n",
        "|Questions|Answers|\n",
        "|----|-----|\n",
        "|Is it a supervised learning or a un-supervised learning appraoch ?| Supervised learning as we have data which is labeled |\n",
        "| Is it a regression task ?| Yes, we need to predict a value(price) and thus it is a regression|\n",
        "|It it multiple regression problem ?|Yes, since we have many features using which we will predict a value|\n",
        "|It is univariate ?|Yes, since we only need to predict one value |\n",
        "|Do you need batch learning or online Learning ?|Here, we don't have a real-time data coming in to be trained. Data collection process in this case is very slow and we can perform batch learning for our model|\n",
        "\n",
        "#Get the data \n",
        "Its time to get your data and have a quick look into it. Also, setup your development environment based on your choice and preferences. In my case, I will be using -\n",
        "\n",
        "|Activity|Tool/Technology/Library|\n",
        "|---|---|\n",
        "|Programming Language | Python 3.x|\n",
        "|Integrated Development Environment | Google Colab|\n",
        "|Libraries | Pandas,Numpy, Matplotlib, Seaborn, Sklearn|\n",
        "\n"
      ]
    },
    {
      "cell_type": "code",
      "metadata": {
        "id": "7K65k1YF1Li4"
      },
      "source": [
        ""
      ],
      "execution_count": null,
      "outputs": []
    }
  ]
}