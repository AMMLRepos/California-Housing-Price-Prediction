{
  "nbformat": 4,
  "nbformat_minor": 0,
  "metadata": {
    "colab": {
      "name": "California Housing Prices Prediction",
      "provenance": [],
      "authorship_tag": "ABX9TyP1cOwbqvRSjOgQrtj1Ulpl",
      "include_colab_link": true
    },
    "kernelspec": {
      "name": "python3",
      "display_name": "Python 3"
    },
    "language_info": {
      "name": "python"
    }
  },
  "cells": [
    {
      "cell_type": "markdown",
      "metadata": {
        "id": "view-in-github",
        "colab_type": "text"
      },
      "source": [
        "<a href=\"https://colab.research.google.com/github/AMMLRepos/California-Housing-Price-Prediction/blob/main/California_Housing_Prices_Prediction.ipynb\" target=\"_parent\"><img src=\"https://colab.research.google.com/assets/colab-badge.svg\" alt=\"Open In Colab\"/></a>"
      ]
    },
    {
      "cell_type": "markdown",
      "metadata": {
        "id": "B96E5xlh1PKO"
      },
      "source": [
        "# Overview \n",
        "This google colab notebook is a step-by-step process to approach a Machine learning solution to predict housing prices in California, United States. \n",
        "\n",
        "# Business Challenges\n",
        "\n",
        "- To avoid manual methods of predicting housing prices as they are time taking, costly and many a times not reliable and can be biased on emotional front \n",
        "- Estmations are many a times wrong by 20 %\n",
        "\n",
        "# Expected business outcomes\n",
        "- To predict the housing prices in California, United States\n",
        "- To determine whether it is worth investing in a house in a specific area. \n",
        "\n",
        "# Questions you should ask as a Machine Learning Engineer \n",
        "- What is the end goal and expected outcome ?\n",
        "- How is the process currently being carried out without Machine Learning ?\n",
        "- Where is the data located and is it a reliable source ?\n",
        "- How much data is available ?\n",
        "- Do we have all required features to get a right prediction ?\n",
        "- Do we have experts available to help understand the data which is collected ?\n",
        "- How frequently data gets added, updated and deleted ?\n",
        "\n",
        "Questions above are a few which can get you started and you might have many more as you move ahead in the process. \n"
      ]
    },
    {
      "cell_type": "code",
      "metadata": {
        "id": "7K65k1YF1Li4"
      },
      "source": [
        ""
      ],
      "execution_count": null,
      "outputs": []
    }
  ]
}