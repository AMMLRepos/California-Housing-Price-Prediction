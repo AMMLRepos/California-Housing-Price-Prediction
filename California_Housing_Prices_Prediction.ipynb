{
  "nbformat": 4,
  "nbformat_minor": 0,
  "metadata": {
    "colab": {
      "name": "California Housing Prices Prediction",
      "provenance": [],
      "authorship_tag": "ABX9TyMdJfHdyiNch6fLtYEm/Ao1",
      "include_colab_link": true
    },
    "kernelspec": {
      "name": "python3",
      "display_name": "Python 3"
    },
    "language_info": {
      "name": "python"
    }
  },
  "cells": [
    {
      "cell_type": "markdown",
      "metadata": {
        "id": "view-in-github",
        "colab_type": "text"
      },
      "source": [
        "<a href=\"https://colab.research.google.com/github/AMMLRepos/California-Housing-Price-Prediction/blob/main/California_Housing_Prices_Prediction.ipynb\" target=\"_parent\"><img src=\"https://colab.research.google.com/assets/colab-badge.svg\" alt=\"Open In Colab\"/></a>"
      ]
    },
    {
      "cell_type": "markdown",
      "metadata": {
        "id": "B96E5xlh1PKO"
      },
      "source": [
        "# Overview \n",
        "This google colab notebook is a step-by-step process to approach a Machine learning solution to predict housing prices in California, United States. \n",
        "\n",
        "# Business Challenges\n",
        "\n",
        "- To avoid manual methods of predicting housing prices as they are time taking, costly and many a times not reliable and can be biased on emotional front \n",
        "- Estmations are many a times wrong by 20 %\n",
        "\n",
        "# Expected business outcomes\n",
        "- To predict the housing prices in California, United States\n",
        "- To determine whether it is worth investing in a house in a specific area. \n",
        "\n",
        "# Questions you should ask as a Machine Learning Engineer \n",
        "- What is the end goal and expected outcome ?\n",
        "- How is the process currently being carried out without Machine Learning ?\n",
        "- Where is the data located and is it a reliable source ?\n",
        "- How much data is available ?\n",
        "- Do we have all required features to get a right prediction ?\n",
        "- Do we have experts available to help understand the data which is collected ?\n",
        "- How frequently data gets added, updated and deleted ?\n",
        "\n",
        "Questions above are a few which can get you started and you might have many more as you move ahead in the process. \n",
        "\n",
        "# Things you need to decide before starting \n",
        "\n",
        "|Questions|Answers|\n",
        "|----|-----|\n",
        "|Is it a supervised learning or a un-supervised learning appraoch ?| Supervised learning as we have data which is labeled |\n",
        "| Is it a regression task ?| Yes, we need to predict a value(price) and thus it is a regression|\n",
        "|It it multiple regression problem ?|Yes, since we have many features using which we will predict a value|\n",
        "|It is univariate ?|Yes, since we only need to predict one value |\n",
        "|Do you need batch learning or online Learning ?|Here, we don't have a real-time data coming in to be trained. Data collection process in this case is very slow and we can perform batch learning for our model|\n",
        "\n",
        "#Get the data \n",
        "Its time to get your data and have a quick look into it. Also, setup your development environment based on your choice and preferences. In my case, I will be using -\n",
        "\n",
        "|Activity|Tool/Technology/Library|\n",
        "|---|---|\n",
        "|Programming Language | Python 3.x|\n",
        "|Integrated Development Environment | Google Colab|\n",
        "|Libraries | Pandas,Numpy, Matplotlib, Seaborn, Sklearn|\n",
        "\n"
      ]
    },
    {
      "cell_type": "markdown",
      "metadata": {
        "id": "ozvvXAvm6vGf"
      },
      "source": [
        "# Install your libraries"
      ]
    },
    {
      "cell_type": "code",
      "metadata": {
        "id": "7K65k1YF1Li4",
        "colab": {
          "base_uri": "https://localhost:8080/"
        },
        "outputId": "c81fef12-6903-487d-de9a-cc91e5eac713"
      },
      "source": [
        "!pip install pandas numpy matplotlib seaborn sklearn opendatasets "
      ],
      "execution_count": 1,
      "outputs": [
        {
          "output_type": "stream",
          "text": [
            "Requirement already satisfied: pandas in /usr/local/lib/python3.7/dist-packages (1.1.5)\n",
            "Requirement already satisfied: numpy in /usr/local/lib/python3.7/dist-packages (1.19.5)\n",
            "Requirement already satisfied: matplotlib in /usr/local/lib/python3.7/dist-packages (3.2.2)\n",
            "Requirement already satisfied: seaborn in /usr/local/lib/python3.7/dist-packages (0.11.1)\n",
            "Requirement already satisfied: sklearn in /usr/local/lib/python3.7/dist-packages (0.0)\n",
            "Collecting opendatasets\n",
            "  Downloading opendatasets-0.1.20-py3-none-any.whl (14 kB)\n",
            "Requirement already satisfied: python-dateutil>=2.7.3 in /usr/local/lib/python3.7/dist-packages (from pandas) (2.8.1)\n",
            "Requirement already satisfied: pytz>=2017.2 in /usr/local/lib/python3.7/dist-packages (from pandas) (2018.9)\n",
            "Requirement already satisfied: six>=1.5 in /usr/local/lib/python3.7/dist-packages (from python-dateutil>=2.7.3->pandas) (1.15.0)\n",
            "Requirement already satisfied: pyparsing!=2.0.4,!=2.1.2,!=2.1.6,>=2.0.1 in /usr/local/lib/python3.7/dist-packages (from matplotlib) (2.4.7)\n",
            "Requirement already satisfied: kiwisolver>=1.0.1 in /usr/local/lib/python3.7/dist-packages (from matplotlib) (1.3.1)\n",
            "Requirement already satisfied: cycler>=0.10 in /usr/local/lib/python3.7/dist-packages (from matplotlib) (0.10.0)\n",
            "Requirement already satisfied: scipy>=1.0 in /usr/local/lib/python3.7/dist-packages (from seaborn) (1.4.1)\n",
            "Requirement already satisfied: scikit-learn in /usr/local/lib/python3.7/dist-packages (from sklearn) (0.22.2.post1)\n",
            "Requirement already satisfied: kaggle in /usr/local/lib/python3.7/dist-packages (from opendatasets) (1.5.12)\n",
            "Requirement already satisfied: click in /usr/local/lib/python3.7/dist-packages (from opendatasets) (7.1.2)\n",
            "Requirement already satisfied: tqdm in /usr/local/lib/python3.7/dist-packages (from opendatasets) (4.41.1)\n",
            "Requirement already satisfied: urllib3 in /usr/local/lib/python3.7/dist-packages (from kaggle->opendatasets) (1.24.3)\n",
            "Requirement already satisfied: certifi in /usr/local/lib/python3.7/dist-packages (from kaggle->opendatasets) (2021.5.30)\n",
            "Requirement already satisfied: requests in /usr/local/lib/python3.7/dist-packages (from kaggle->opendatasets) (2.23.0)\n",
            "Requirement already satisfied: python-slugify in /usr/local/lib/python3.7/dist-packages (from kaggle->opendatasets) (5.0.2)\n",
            "Requirement already satisfied: text-unidecode>=1.3 in /usr/local/lib/python3.7/dist-packages (from python-slugify->kaggle->opendatasets) (1.3)\n",
            "Requirement already satisfied: idna<3,>=2.5 in /usr/local/lib/python3.7/dist-packages (from requests->kaggle->opendatasets) (2.10)\n",
            "Requirement already satisfied: chardet<4,>=3.0.2 in /usr/local/lib/python3.7/dist-packages (from requests->kaggle->opendatasets) (3.0.4)\n",
            "Requirement already satisfied: joblib>=0.11 in /usr/local/lib/python3.7/dist-packages (from scikit-learn->sklearn) (1.0.1)\n",
            "Installing collected packages: opendatasets\n",
            "Successfully installed opendatasets-0.1.20\n"
          ],
          "name": "stdout"
        }
      ]
    },
    {
      "cell_type": "markdown",
      "metadata": {
        "id": "vrnEmBcE7KSM"
      },
      "source": [
        "#Download your data\n",
        "The dataset we will be working at is available at [Kaggle](https://www.kaggle.com/camnugent/california-housing-prices) and we will be using an opensource library named [opendatasets](https://github.com/JovianML/opendatasets) developed by [jovian](https://jovian.ai) \n",
        "\n",
        "Please note that you must provide your Kaggle Username and Key to allow opendatasets to download the files"
      ]
    },
    {
      "cell_type": "code",
      "metadata": {
        "colab": {
          "base_uri": "https://localhost:8080/"
        },
        "id": "vM16UoqY-9ec",
        "outputId": "d8599190-9214-4d58-b176-67052581e14d"
      },
      "source": [
        "import opendatasets as od \n",
        "import os\n",
        "dataset_url = \"https://www.kaggle.com/camnugent/california-housing-prices\"\n",
        "od.download(dataset_url)\n",
        "\n",
        "#Set data directory and get the file path. Please note that it may differ in your environment and make required changes to\n",
        "#paths as given below \n",
        "data_dir = \"california-housing-prices\"\n",
        "file_name = os.listdir(data_dir)[0]\n",
        "file_path = data_dir + \"/\" + file_name "
      ],
      "execution_count": 6,
      "outputs": [
        {
          "output_type": "stream",
          "text": [
            "Skipping, found downloaded files in \"./california-housing-prices\" (use force=True to force download)\n"
          ],
          "name": "stdout"
        },
        {
          "output_type": "execute_result",
          "data": {
            "text/plain": [
              "['housing.csv']"
            ]
          },
          "metadata": {
            "tags": []
          },
          "execution_count": 6
        }
      ]
    },
    {
      "cell_type": "markdown",
      "metadata": {
        "id": "1kZomgYzA9bj"
      },
      "source": [
        "# Import required libraries\n",
        "Let us now import required libraries to get the data in our working directory and have a look into it"
      ]
    },
    {
      "cell_type": "code",
      "metadata": {
        "id": "jlKw-cQxBGgJ"
      },
      "source": [
        "import pandas as pd\n",
        "import numpy as np\n",
        "import matplotlib.pyplot as plt\n",
        "import seaborn as sns"
      ],
      "execution_count": 7,
      "outputs": []
    }
  ]
}