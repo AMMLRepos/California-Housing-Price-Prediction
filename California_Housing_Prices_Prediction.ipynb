{
  "nbformat": 4,
  "nbformat_minor": 0,
  "metadata": {
    "colab": {
      "name": "California Housing Prices Prediction",
      "provenance": [],
      "authorship_tag": "ABX9TyPgqMP0HMNvPFPcneiCCK+g",
      "include_colab_link": true
    },
    "kernelspec": {
      "name": "python3",
      "display_name": "Python 3"
    },
    "language_info": {
      "name": "python"
    }
  },
  "cells": [
    {
      "cell_type": "markdown",
      "metadata": {
        "id": "view-in-github",
        "colab_type": "text"
      },
      "source": [
        "<a href=\"https://colab.research.google.com/github/AMMLRepos/California-Housing-Price-Prediction/blob/main/California_Housing_Prices_Prediction.ipynb\" target=\"_parent\"><img src=\"https://colab.research.google.com/assets/colab-badge.svg\" alt=\"Open In Colab\"/></a>"
      ]
    },
    {
      "cell_type": "markdown",
      "metadata": {
        "id": "B96E5xlh1PKO"
      },
      "source": [
        "# Overview \n",
        "This google colab notebook is a step-by-step process to approach a Machine learning solution to predict housing prices in California, United States. \n",
        "\n",
        "# Business Challenges\n",
        "\n",
        "- To avoid manual methods of predicting housing prices as they are time taking, costly and many a times not reliable and can be biased on emotional front \n",
        "- Estmations are many a times wrong by 20 %\n",
        "\n",
        "# Expected business outcomes\n",
        "- To predict the housing prices in California, United States\n",
        "- To determine whether it is worth investing in a house in a specific area. \n",
        "\n",
        "# Questions you should ask as a Machine Learning Engineer \n",
        "- What is the end goal and expected outcome ?\n",
        "- How is the process currently being carried out without Machine Learning ?\n",
        "- Where is the data located and is it a reliable source ?\n",
        "- How much data is available ?\n",
        "- Do we have all required features to get a right prediction ?\n",
        "- Do we have experts available to help understand the data which is collected ?\n",
        "- How frequently data gets added, updated and deleted ?\n",
        "\n",
        "Questions above are a few which can get you started and you might have many more as you move ahead in the process. \n",
        "\n",
        "# Things you need to decide before starting \n",
        "\n",
        "|Questions|Answers|\n",
        "|----|-----|\n",
        "|Is it a supervised learning or a un-supervised learning appraoch ?| Supervised learning as we have data which is labeled |\n",
        "| Is it a regression task ?| Yes, we need to predict a value(price) and thus it is a regression|\n",
        "|It it multiple regression problem ?|Yes, since we have many features using which we will predict a value|\n",
        "|It is univariate ?|Yes, since we only need to predict one value |\n",
        "|Do you need batch learning or online Learning ?|Here, we don't have a real-time data coming in to be trained. Data collection process in this case is very slow and we can perform batch learning for our model|\n",
        "\n",
        "#Get the data \n",
        "Its time to get your data and have a quick look into it. Also, setup your development environment based on your choice and preferences. In my case, I will be using -\n",
        "\n",
        "|Activity|Tool/Technology/Library|\n",
        "|---|---|\n",
        "|Programming Language | Python 3.x|\n",
        "|Integrated Development Environment | Google Colab|\n",
        "|Libraries | Pandas,Numpy, Matplotlib, Seaborn, Sklearn|\n",
        "\n"
      ]
    },
    {
      "cell_type": "markdown",
      "metadata": {
        "id": "ozvvXAvm6vGf"
      },
      "source": [
        "# Install your libraries"
      ]
    },
    {
      "cell_type": "code",
      "metadata": {
        "id": "7K65k1YF1Li4"
      },
      "source": [
        "!pip install pandas numpy matplotlib seaborn sklearn --quiet"
      ],
      "execution_count": 2,
      "outputs": []
    },
    {
      "cell_type": "markdown",
      "metadata": {
        "id": "vrnEmBcE7KSM"
      },
      "source": [
        "#Download your data"
      ]
    },
    {
      "cell_type": "code",
      "metadata": {
        "colab": {
          "base_uri": "https://localhost:8080/",
          "height": 775
        },
        "id": "J5gdzk-m7Mrx",
        "outputId": "7caddf63-386d-4c18-c1b0-54f8a55982cf"
      },
      "source": [
        "import os \n",
        "import tarfile\n",
        "from urllib.request import urlretrieve\n",
        "FILE_PATH = \"http://raw.githubusercontent.com/ageron/handson-ml2/master/datasets/housing/housing.tgz\"\n",
        "\n",
        "#os.makedirs(\"housing-data\")\n",
        "#os.chdir(\"housing-data\")\n",
        "urlretrieve(FILE_PATH, \"house-prices.tgz\")\n",
        "\n"
      ],
      "execution_count": 11,
      "outputs": [
        {
          "output_type": "stream",
          "text": [
            "ERROR:root:Internal Python error in the inspect module.\n",
            "Below is the traceback from this internal error.\n",
            "\n"
          ],
          "name": "stderr"
        },
        {
          "output_type": "stream",
          "text": [
            "Traceback (most recent call last):\n",
            "  File \"/usr/local/lib/python3.7/dist-packages/IPython/core/interactiveshell.py\", line 2882, in run_code\n",
            "    exec(code_obj, self.user_global_ns, self.user_ns)\n",
            "  File \"<ipython-input-11-877f578f72a5>\", line 8, in <module>\n",
            "    urlretrieve(FILE_PATH, \"house-prices.tgz\")\n",
            "  File \"/usr/lib/python3.7/urllib/request.py\", line 257, in urlretrieve\n",
            "    tfp = open(filename, 'wb')\n",
            "FileNotFoundError: [Errno 2] No such file or directory: 'house-prices.tgz'\n",
            "\n",
            "During handling of the above exception, another exception occurred:\n",
            "\n",
            "Traceback (most recent call last):\n",
            "  File \"/usr/local/lib/python3.7/dist-packages/IPython/core/interactiveshell.py\", line 1823, in showtraceback\n",
            "    stb = value._render_traceback_()\n",
            "AttributeError: 'FileNotFoundError' object has no attribute '_render_traceback_'\n",
            "\n",
            "During handling of the above exception, another exception occurred:\n",
            "\n",
            "Traceback (most recent call last):\n",
            "  File \"/usr/local/lib/python3.7/dist-packages/IPython/core/ultratb.py\", line 1132, in get_records\n",
            "    return _fixed_getinnerframes(etb, number_of_lines_of_context, tb_offset)\n",
            "  File \"/usr/local/lib/python3.7/dist-packages/IPython/core/ultratb.py\", line 313, in wrapped\n",
            "    return f(*args, **kwargs)\n",
            "  File \"/usr/local/lib/python3.7/dist-packages/IPython/core/ultratb.py\", line 358, in _fixed_getinnerframes\n",
            "    records = fix_frame_records_filenames(inspect.getinnerframes(etb, context))\n",
            "  File \"/usr/lib/python3.7/inspect.py\", line 1502, in getinnerframes\n",
            "    frameinfo = (tb.tb_frame,) + getframeinfo(tb, context)\n",
            "  File \"/usr/lib/python3.7/inspect.py\", line 1460, in getframeinfo\n",
            "    filename = getsourcefile(frame) or getfile(frame)\n",
            "  File \"/usr/lib/python3.7/inspect.py\", line 696, in getsourcefile\n",
            "    if getattr(getmodule(object, filename), '__loader__', None) is not None:\n",
            "  File \"/usr/lib/python3.7/inspect.py\", line 725, in getmodule\n",
            "    file = getabsfile(object, _filename)\n",
            "  File \"/usr/lib/python3.7/inspect.py\", line 709, in getabsfile\n",
            "    return os.path.normcase(os.path.abspath(_filename))\n",
            "  File \"/usr/lib/python3.7/posixpath.py\", line 383, in abspath\n",
            "    cwd = os.getcwd()\n",
            "FileNotFoundError: [Errno 2] No such file or directory\n"
          ],
          "name": "stdout"
        },
        {
          "output_type": "error",
          "ename": "FileNotFoundError",
          "evalue": "ignored",
          "traceback": [
            "\u001b[0;31m---------------------------------------------------------------------------\u001b[0m"
          ]
        }
      ]
    }
  ]
}